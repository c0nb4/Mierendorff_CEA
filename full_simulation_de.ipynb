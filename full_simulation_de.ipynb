{
 "cells": [
  {
   "cell_type": "markdown",
   "metadata": {},
   "source": [
    "Comparison of different input parameters \n",
    "\n",
    "This notebook contains all the steps, necessary for Modelling and Simulating the Mierendorff Insel in Berlin. For this notebook the german database is used."
   ]
  },
  {
   "cell_type": "code",
   "execution_count": 1,
   "metadata": {},
   "outputs": [],
   "source": [
    "# Import packages\n",
    "import datetime\n",
    "import geopandas as gpd\n",
    "import holidays\n",
    "# import july\n",
    "import numpy as np\n",
    "import os\n",
    "import pandas as pd\n",
    "from matplotlib import pyplot as plt\n",
    "# import seaborn as sns\n",
    "import shutil\n",
    "import time\n",
    "# Import CEA modules\n",
    "import cea.config\n",
    "from cea.utilities.dbf import *\n",
    "from cea.utilities.epwreader import epw_reader\n",
    "from cea.datamanagement.archetypes_mapper import archetypes_mapper\n",
    "from cea.demand.schedule_maker.schedule_maker import main as schedule_maker\n",
    "from cea.demand.demand_main import main as demand_main\n",
    "# from cea.resources.radiation_daysim.radiation_main import main as radiation_main\n",
    "\n",
    "DAYSIM_BIN_DIRECTORY = os.path.join(os.getcwd(), 'CEA_model/0_daysim_binaries/darwin')\n",
    "project_folder = os.path.join(os.getcwd(), 'CEA_model')"
   ]
  },
  {
   "cell_type": "code",
   "execution_count": 2,
   "metadata": {},
   "outputs": [],
   "source": [
    "# Create baseline model for 2020 "
   ]
  },
  {
   "cell_type": "code",
   "execution_count": 3,
   "metadata": {},
   "outputs": [],
   "source": [
    "zone_gdf = gpd.read_file(\n",
    "    os.path.join(project_folder, 'Block0202023', '2020_de', 'inputs', 'building-geometry', 'zone.shp'))"
   ]
  },
  {
   "cell_type": "code",
   "execution_count": 4,
   "metadata": {},
   "outputs": [],
   "source": [
    "list_buildings = zone_gdf[\"Name\"].tolist()"
   ]
  },
  {
   "cell_type": "code",
   "execution_count": 5,
   "metadata": {},
   "outputs": [
    {
     "name": "stdout",
     "output_type": "stream",
     "text": [
      "Running occupancy model for scenario c:\\Users\\felix\\Programmieren\\cea_berlin\\CEA_model\\Block0202023\\2020_de\n",
      "Running occupancy model  with schedule model=deterministic\n",
      "Using 11 CPU's\n",
      "Schedule for building No. 1 completed out of 6: B1004\n",
      "Schedule for building No. 2 completed out of 6: B1003\n",
      "Schedule for building No. 3 completed out of 6: B1000\n",
      "Schedule for building No. 4 completed out of 6: B1005\n",
      "Schedule for building No. 5 completed out of 6: B1002\n",
      "Schedule for building No. 6 completed out of 6: B1001\n",
      "Running occupancy model for scenario c:\\Users\\felix\\Programmieren\\cea_berlin\\CEA_model\\Block0202023\\2021_de\n",
      "Running occupancy model  with schedule model=deterministic\n",
      "Using 11 CPU's\n",
      "Schedule for building No. 1 completed out of 6: B1000\n",
      "Schedule for building No. 2 completed out of 6: B1001\n",
      "Schedule for building No. 3 completed out of 6: B1002\n",
      "Schedule for building No. 4 completed out of 6: B1003\n",
      "Schedule for building No. 5 completed out of 6: B1005\n",
      "Schedule for building No. 6 completed out of 6: B1004\n",
      "Running occupancy model for scenario c:\\Users\\felix\\Programmieren\\cea_berlin\\CEA_model\\Block0202023\\2022_de\n",
      "Running occupancy model  with schedule model=deterministic\n",
      "Using 11 CPU's\n",
      "Schedule for building No. 1 completed out of 6: B1003\n",
      "Schedule for building No. 2 completed out of 6: B1005\n",
      "Schedule for building No. 3 completed out of 6: B1000\n",
      "Schedule for building No. 4 completed out of 6: B1001\n",
      "Schedule for building No. 5 completed out of 6: B1002\n",
      "Schedule for building No. 6 completed out of 6: B1004\n"
     ]
    }
   ],
   "source": [
    "\n",
    "import cea.config\n",
    "config = cea.config.Configuration()\n",
    "config.multiprocessing = True\n",
    "for year in ['2020_de', '2021_de', '2022_de']:\n",
    "    config.project = os.path.join(project_folder, 'Block0202023')\n",
    "    config.scenario_name = year\n",
    "    config.archetypes_mapper.buildings = list_buildings\n",
    "    config.schedule_maker.buildings = list_buildings\n",
    "    archetypes_mapper(locator=cea.inputlocator.InputLocator(config.scenario), \n",
    "                      update_architecture_dbf=False, update_air_conditioning_systems_dbf=False, \n",
    "                      update_indoor_comfort_dbf=False, update_internal_loads_dbf=False, \n",
    "                      update_supply_systems_dbf=False, update_schedule_operation_cea=True, \n",
    "                      buildings=list_buildings)\n",
    "    schedule_maker(config)"
   ]
  },
  {
   "cell_type": "code",
   "execution_count": 6,
   "metadata": {},
   "outputs": [
    {
     "name": "stdout",
     "output_type": "stream",
     "text": [
      "Running demand calculation for scenario c:\\Users\\felix\\Programmieren\\cea_berlin\\CEA_model\\Block0202023\\2020\n",
      "Running demand calculation with dynamic infiltration=False\n",
      "Running demand calculation with multiprocessing=True\n",
      "Running demand calculation for the following buildings=['B1000', 'B1001', 'B1002', 'B1003', 'B1004', 'B1005']\n",
      "read input files\n",
      "done\n",
      "Using 11 CPU's\n",
      "Building No. 1 completed out of 6: B1000\n",
      "Building No. 2 completed out of 6: B1003\n",
      "Building No. 3 completed out of 6: B1001\n",
      "Building No. 4 completed out of 6: B1002\n",
      "Building No. 5 completed out of 6: B1005\n",
      "Building No. 6 completed out of 6: B1004\n",
      "done - time elapsed: 53.2 seconds\n",
      "Running demand calculation for scenario c:\\Users\\felix\\Programmieren\\cea_berlin\\CEA_model\\Block0202023\\2021\n",
      "Running demand calculation with dynamic infiltration=False\n",
      "Running demand calculation with multiprocessing=True\n",
      "Running demand calculation for the following buildings=['B1000', 'B1001', 'B1002', 'B1003', 'B1004', 'B1005']\n",
      "read input files\n",
      "done\n",
      "Using 11 CPU's\n",
      "Building No. 1 completed out of 6: B1000\n",
      "Building No. 2 completed out of 6: B1001\n",
      "Building No. 3 completed out of 6: B1002\n",
      "Building No. 4 completed out of 6: B1004\n",
      "Building No. 5 completed out of 6: B1003\n",
      "Building No. 6 completed out of 6: B1005\n",
      "done - time elapsed: 54.2 seconds\n",
      "Running demand calculation for scenario c:\\Users\\felix\\Programmieren\\cea_berlin\\CEA_model\\Block0202023\\2022\n",
      "Running demand calculation with dynamic infiltration=False\n",
      "Running demand calculation with multiprocessing=True\n",
      "Running demand calculation for the following buildings=['B1000', 'B1001', 'B1002', 'B1003', 'B1004', 'B1005']\n",
      "read input files\n",
      "done\n",
      "Using 11 CPU's\n",
      "Building No. 1 completed out of 6: B1000\n",
      "Building No. 2 completed out of 6: B1002\n",
      "Building No. 3 completed out of 6: B1003\n",
      "Building No. 4 completed out of 6: B1001\n",
      "Building No. 5 completed out of 6: B1005\n",
      "Building No. 6 completed out of 6: B1004\n",
      "done - time elapsed: 74.2 seconds\n"
     ]
    }
   ],
   "source": [
    "import cea.config\n",
    "config = cea.config.Configuration()\n",
    "config.multiprocessing = True\n",
    "for year in ['2020', '2021', '2022']:\n",
    "    config.project = os.path.join(project_folder, 'Block0202023')\n",
    "    config.scenario_name = year\n",
    "    config.demand.buildings = list_buildings\n",
    "    demand_main(config)"
   ]
  }
 ],
 "metadata": {
  "kernelspec": {
   "display_name": "cea",
   "language": "python",
   "name": "python3"
  },
  "language_info": {
   "codemirror_mode": {
    "name": "ipython",
    "version": 3
   },
   "file_extension": ".py",
   "mimetype": "text/x-python",
   "name": "python",
   "nbconvert_exporter": "python",
   "pygments_lexer": "ipython3",
   "version": "3.8.18"
  }
 },
 "nbformat": 4,
 "nbformat_minor": 2
}

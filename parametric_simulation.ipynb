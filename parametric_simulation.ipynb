{
 "cells": [
  {
   "cell_type": "code",
   "execution_count": 6,
   "metadata": {},
   "outputs": [],
   "source": [
    "# Import packages\n",
    "import datetime\n",
    "import geopandas as gpd\n",
    "import holidays\n",
    "# import july\n",
    "import numpy as np\n",
    "import os\n",
    "import pandas as pd\n",
    "from matplotlib import pyplot as plt\n",
    "from dbfread import DBF\n",
    "# import seaborn as sns\n",
    "import shutil\n",
    "import time\n",
    "# Import CEA modules\n",
    "import cea.config\n",
    "import cea.api \n",
    "from cea.utilities.dbf import *\n",
    "from cea.utilities.epwreader import epw_reader\n",
    "from cea.datamanagement.archetypes_mapper import archetypes_mapper\n",
    "from cea.demand.schedule_maker.schedule_maker import main as schedule_maker\n",
    "from cea.demand.demand_main import main as demand_main\n",
    "# from cea.resources.radiation_daysim.radiation_main import main as radiation_main\n",
    "\n",
    "DAYSIM_BIN_DIRECTORY = os.path.join(os.getcwd(), 'CEA_model/0_daysim_binaries/darwin')\n",
    "project_folder = os.path.join(os.getcwd(), 'CEA_model')"
   ]
  },
  {
   "cell_type": "code",
   "execution_count": 7,
   "metadata": {},
   "outputs": [],
   "source": [
    "zone_gdf = gpd.read_file(\n",
    "    os.path.join(project_folder, 'Block0202023', '2020', 'inputs', 'building-geometry', 'zone.shp')) \n",
    "list_buildings = zone_gdf[\"Name\"].tolist() \n",
    "import cea.config\n",
    "config = cea.config.Configuration()\n",
    "config.multiprocessing = True\n",
    "for year in ['2020_de', '2021_de', '2022_de']:\n",
    "    config.project = os.path.join(project_folder, 'Block0202023')\n",
    "    config.scenario_name = year\n",
    "    config.archetypes_mapper.buildings = list_buildings"
   ]
  },
  {
   "cell_type": "code",
   "execution_count": 8,
   "metadata": {},
   "outputs": [
    {
     "data": {
      "text/plain": [
       "['B1000', 'B1001', 'B1002', 'B1003', 'B1004', 'B1005']"
      ]
     },
     "execution_count": 8,
     "metadata": {},
     "output_type": "execute_result"
    }
   ],
   "source": [
    "config.archetypes_mapper.buildings"
   ]
  },
  {
   "cell_type": "code",
   "execution_count": 9,
   "metadata": {},
   "outputs": [
    {
     "data": {
      "text/plain": [
       "{'name': 'archetypes-mapper',\n",
       " 'config': <cea.config.Configuration at 0x232a26155e0>,\n",
       " 'parameters': {'input-databases': <Parameter archetypes-mapper:input-databases=['comfort', 'architecture', 'air-conditioning', 'internal-loads', 'supply', 'schedules']>,\n",
       "  'buildings': <Parameter archetypes-mapper:buildings=['B1000', 'B1001', 'B1002', 'B1003', 'B1004', 'B1005']>}}"
      ]
     },
     "execution_count": 9,
     "metadata": {},
     "output_type": "execute_result"
    }
   ],
   "source": [
    "vars(config.archetypes_mapper)"
   ]
  },
  {
   "cell_type": "code",
   "execution_count": 11,
   "metadata": {},
   "outputs": [],
   "source": [
    "# Possible combinations, AB_E, AB_E_NR and \"AB_E_AR\"\n",
    "archetypes = [\"AB_E\" , \"AB_E_NR\", \"AB_E_AR\"] "
   ]
  },
  {
   "cell_type": "code",
   "execution_count": 17,
   "metadata": {},
   "outputs": [],
   "source": [
    "new_scenario_name = 'modified-occupancy-schedules' # the new scenario name\n",
    "for archetype in archetypes:\n",
    "    year = \"2020\"\n",
    "    path_to_new_scenario = os.path.join(project_folder, 'Block0202023', f'{year}_{archetype}') # create the destination path for copying the baseline scenario\n",
    "    path_to_baseline = os.path.join(project_folder, 'Block0202023', year)\n",
    "    shutil.copytree(path_to_baseline, path_to_new_scenario)\n",
    "    for record in DBF(r'CEA_model\\Block0202023\\2021\\inputs\\building-properties\\typology.dbf'):\n",
    "        record[\"STANDARD\"] = archetype\n",
    "    config.demand.buildings = list_buildings\n",
    "    demand_main(config)\n"
   ]
  },
  {
   "cell_type": "code",
   "execution_count": 22,
   "metadata": {},
   "outputs": [
    {
     "ename": "AttributeError",
     "evalue": "module 'cea' has no attribute 'api'",
     "output_type": "error",
     "traceback": [
      "\u001b[1;31m---------------------------------------------------------------------------\u001b[0m",
      "\u001b[1;31mAttributeError\u001b[0m                            Traceback (most recent call last)",
      "Cell \u001b[1;32mIn[22], line 1\u001b[0m\n\u001b[1;32m----> 1\u001b[0m \u001b[43mcea\u001b[49m\u001b[38;5;241;43m.\u001b[39;49m\u001b[43mapi\u001b[49m\u001b[38;5;241m.\u001b[39mdemand(scenario\u001b[38;5;241m=\u001b[39mpath_to_new_scenario, weather \u001b[38;5;241m=\u001b[39m \u001b[38;5;124mr\u001b[39m\u001b[38;5;124m'\u001b[39m\u001b[38;5;124mC:\u001b[39m\u001b[38;5;124m\\\u001b[39m\u001b[38;5;124mUsers\u001b[39m\u001b[38;5;124m\\\u001b[39m\u001b[38;5;124mfelix\u001b[39m\u001b[38;5;124m\\\u001b[39m\u001b[38;5;124mProgrammieren\u001b[39m\u001b[38;5;124m\\\u001b[39m\u001b[38;5;124mcea_berlin\u001b[39m\u001b[38;5;124m\\\u001b[39m\u001b[38;5;124mauxillary\u001b[39m\u001b[38;5;124m\\\u001b[39m\u001b[38;5;124mAMY_2010_2022_2020.epw\u001b[39m\u001b[38;5;124m'\u001b[39m)\n",
      "\u001b[1;31mAttributeError\u001b[0m: module 'cea' has no attribute 'api'"
     ]
    }
   ],
   "source": [
    "cea.api.demand(scenario=path_to_new_scenario, weather = r'C:\\Users\\felix\\Programmieren\\cea_berlin\\auxillary\\AMY_2010_2022_2020.epw')"
   ]
  }
 ],
 "metadata": {
  "kernelspec": {
   "display_name": "cea",
   "language": "python",
   "name": "python3"
  },
  "language_info": {
   "codemirror_mode": {
    "name": "ipython",
    "version": 3
   },
   "file_extension": ".py",
   "mimetype": "text/x-python",
   "name": "python",
   "nbconvert_exporter": "python",
   "pygments_lexer": "ipython3",
   "version": "3.8.18"
  }
 },
 "nbformat": 4,
 "nbformat_minor": 2
}

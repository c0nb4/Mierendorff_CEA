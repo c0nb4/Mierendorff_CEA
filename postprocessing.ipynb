{
 "cells": [
  {
   "cell_type": "code",
   "execution_count": 1,
   "metadata": {},
   "outputs": [],
   "source": [
    "# For postprocessing the data has to be cleaned, \n",
    "# The single files are around 7mb, so the total data for all scenarios and buildings is roughly 93GB"
   ]
  },
  {
   "cell_type": "code",
   "execution_count": 10,
   "metadata": {},
   "outputs": [],
   "source": [
    "import pandas as pd\n",
    "import os \n",
    "import shutil\n"
   ]
  },
  {
   "cell_type": "code",
   "execution_count": 14,
   "metadata": {},
   "outputs": [],
   "source": [
    "for scenario in os.listdir(\"CEA_model337\"):\n",
    "    if scenario == \"Baseline\":\n",
    "        continue\n",
    "    for year in [\"2020\" , \"2021\", \"2022\"]:\n",
    "        if not os.path.exists(f\"Postprocessed/{scenario}/{year}/outputs/data/demand\"):\n",
    "            os.makedirs(f\"Postprocessed/{scenario}/{year}/outputs/data/demand\", exist_ok=True)\n",
    "        for building in os.listdir(f\"CEA_model337/{scenario}/{year}/outputs/data/demand\"):\n",
    "            if building == \"Total_demand.csv\":\n",
    "                shutil.copyfile(f\"CEA_model337/{scenario}/{year}/outputs/data/demand/{building}\", f\"Postprocessed/{scenario}/{year}/outputs/data/demand/{building}\")\n",
    "            else:\n",
    "                temp_data = pd.read_csv(f\"CEA_model337/{scenario}/{year}/outputs/data/demand/{building}\")\n",
    "                relevant_columns = [\"DATE\",\"Name\",\"people\", \"Qhs_sys_kWh\", \"E_sys_kWh\"]\n",
    "                temp_data = temp_data[relevant_columns]\n",
    "                temp_data.to_csv(f\"Postprocessed/{scenario}/{year}/outputs/data/demand/{building}\", index=False)"
   ]
  }
 ],
 "metadata": {
  "kernelspec": {
   "display_name": "cea",
   "language": "python",
   "name": "python3"
  },
  "language_info": {
   "codemirror_mode": {
    "name": "ipython",
    "version": 3
   },
   "file_extension": ".py",
   "mimetype": "text/x-python",
   "name": "python",
   "nbconvert_exporter": "python",
   "pygments_lexer": "ipython3",
   "version": "3.8.18"
  }
 },
 "nbformat": 4,
 "nbformat_minor": 2
}
